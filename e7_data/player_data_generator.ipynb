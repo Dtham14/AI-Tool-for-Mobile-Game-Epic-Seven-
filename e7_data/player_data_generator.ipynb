{
 "cells": [
  {
   "cell_type": "code",
   "execution_count": 6,
   "id": "61ea6e6e",
   "metadata": {},
   "outputs": [],
   "source": [
    "# IMPORTS AND COMMONLY USED FUNCTIONS\n",
    "# ==> always run first, change server to match the desired one\n",
    "\n",
    "import requests\n",
    "import json\n",
    "import pandas as pd\n",
    "import numpy as np\n",
    "import matplotlib.pyplot as plt\n",
    "\n",
    "\n",
    "# \"global\" | \"asia\" | \"jpn\" | \"kor\"\n",
    "server = \"kor\"\n",
    "\n",
    "\n",
    "uid_df = pd.read_json('epic7_user_world_{}.json'.format(server))\n",
    "users = dict()\n",
    "for x in range(len(uid_df)):\n",
    "    u = dict(uid_df.iloc[x][\"users\"])\n",
    "    users[u[\"nick_no\"]] = u[\"nick_nm\"]\n",
    "\n",
    "users2 = dict()\n",
    "for x in range(len(uid_df)):\n",
    "    u = dict(uid_df.iloc[x][\"users\"])\n",
    "    users2[u[\"nick_nm\"]] = u[\"nick_no\"]\n",
    "    \n",
    "heroname_df = pd.read_json('heronames.json')\n",
    "heronames = dict()\n",
    "for x in range(len(heroname_df)):\n",
    "    heronames[heroname_df.iloc[x][\"code\"]] = heroname_df.iloc[x][\"name\"]\n",
    "    \n",
    "def getHeroName(code):\n",
    "    return heronames[code]\n",
    "def getUID(name):\n",
    "    return users2[name]\n",
    "def getUsername(uid):\n",
    "    return users[uid]"
   ]
  },
  {
   "cell_type": "code",
   "execution_count": 2,
   "id": "3469ccbc",
   "metadata": {},
   "outputs": [],
   "source": [
    "# Get all rta data\n",
    "\n",
    "def generateData(uid, sus_log_p=-30):\n",
    "    url = \"https://epic7.gg.onstove.com/gameApi/getBattleList?nick_no={}&world_code=world_{}&lang=en&season_code=\".format(uid, server)\n",
    "    payload = {}\n",
    "    response = requests.post(url, json=payload)\n",
    "\n",
    "\n",
    "    filename = '{userId}.json'.format(userId=uid)\n",
    "    if response.status_code == 200:\n",
    "        json_data = response.json()\n",
    "        with open(filename, 'w') as file:\n",
    "            json.dump(json_data, file, indent=4)\n",
    "\n",
    "        battles = pd.read_json(filename)\n",
    "        battles = dict(battles.loc[\"battle_list\"])['result_body']\n",
    "\n",
    "        enemies = dict()\n",
    "        heroes = dict()\n",
    "        total_picks = 0\n",
    "        total_battles = 0\n",
    "        for x in range(len(battles)):\n",
    "            if battles[x][\"season_code\"] == \"pvp_rta_ss13\":\n",
    "                total_battles = total_battles + 1\n",
    "                if battles[x][\"enemy_nick_no\"] in enemies:\n",
    "                    enemies[battles[x][\"enemy_nick_no\"]] = enemies[battles[x][\"enemy_nick_no\"]] + 1\n",
    "                else: \n",
    "                    enemies[battles[x][\"enemy_nick_no\"]] = 1    \n",
    "                h = battles[x][\"my_deck\"][\"hero_list\"]\n",
    "                for x2 in range(len(h)):\n",
    "                    total_picks = total_picks + len(h)\n",
    "                    if h[x2][\"hero_code\"] in heroes:\n",
    "                        heroes[h[x2][\"hero_code\"]] = heroes[h[x2][\"hero_code\"]] + 1\n",
    "                    else:\n",
    "                        heroes[h[x2][\"hero_code\"]] = 1\n",
    "\n",
    "        for hero in heroes.keys():\n",
    "            heroes[hero] = np.log(heroes[hero]) - np.log(total_picks)\n",
    "\n",
    "        battle_log_p = [1]*total_battles\n",
    "        x5 = 0\n",
    "        picks = [\"\"]*total_battles\n",
    "        for x in range(len(battles)):\n",
    "            if battles[x][\"season_code\"] == \"pvp_rta_ss11\":   \n",
    "                h = battles[x][\"my_deck\"][\"hero_list\"]\n",
    "                for x2 in range(len(h)):\n",
    "                    if x2 == 0:\n",
    "                        picks[x5] = picks[x5] + getHeroName(h[x2][\"hero_code\"])\n",
    "                    else:\n",
    "                        picks[x5] = picks[x5] + \", \" + getHeroName(h[x2][\"hero_code\"])\n",
    "                    if h[x2][\"hero_code\"] in heroes:\n",
    "                        battle_log_p[x5] = battle_log_p[x5] + heroes[h[x2][\"hero_code\"]]\n",
    "                x5 = x5 + 1\n",
    "        \n",
    "        print(\"Generating data for: \" + str(uid))\n",
    "    else:\n",
    "        print(f'Error: {response.status_code}')\n",
    "        print(response.text)"
   ]
  },
  {
   "cell_type": "code",
   "execution_count": 4,
   "id": "4ec66b37",
   "metadata": {},
   "outputs": [],
   "source": [
    "rta_players_global = [159055138, 60090739, 63471324, 79680386, 60318328, 139771474,\n",
    "               66879752, 63467428, 163085629, 188175150, 68183898, 60134130,\n",
    "               85251058, 206705999, 124552294, 191603279, 177444551, 159620508,\n",
    "               171276418, 170502668, 61214698, 133232375, 60142509, 85743517,\n",
    "               191616064, 63908598, 70726715, 155256756, 134489859, 79806553]\n",
    "\n",
    "rta_players_asia = [71212252, 71559401, 63961422, 77540440, 65920769, 80143521,\n",
    "                    163752543, 124682864, 137537222, 61210383, 130599173, \n",
    "                    159161103, 68673050, 61171745, 65799678]\n",
    "\n",
    "rta_players_kor = [53509258, 50094501, 57984203, 51245518, 50441743,\n",
    "                   56413544, 91691789, 53969894, 188829031, 55685318]\n",
    "\n",
    "rta_players_eu = [182147370]"
   ]
  },
  {
   "cell_type": "code",
   "execution_count": null,
   "id": "1cc30ef3",
   "metadata": {},
   "outputs": [],
   "source": [
    "# for i in range(len(rta_players_global)):\n",
    "#     generateData(rta_players_global[i])"
   ]
  },
  {
   "cell_type": "code",
   "execution_count": 5,
   "id": "5d5bbdcb",
   "metadata": {},
   "outputs": [
    {
     "name": "stdout",
     "output_type": "stream",
     "text": [
      "Generating data for: 71212252\n",
      "Generating data for: 71559401\n",
      "Generating data for: 63961422\n",
      "Generating data for: 77540440\n",
      "Generating data for: 65920769\n",
      "Generating data for: 80143521\n",
      "Generating data for: 163752543\n",
      "Generating data for: 124682864\n",
      "Generating data for: 137537222\n",
      "Generating data for: 61210383\n",
      "Generating data for: 130599173\n",
      "Generating data for: 159161103\n",
      "Generating data for: 68673050\n",
      "Generating data for: 61171745\n",
      "Generating data for: 65799678\n"
     ]
    }
   ],
   "source": [
    "# for i in range(len(rta_players_asia )):\n",
    "#     generateData(rta_players_asia[i])"
   ]
  },
  {
   "cell_type": "code",
   "execution_count": 7,
   "id": "d95f6427",
   "metadata": {},
   "outputs": [
    {
     "name": "stdout",
     "output_type": "stream",
     "text": [
      "Generating data for: 53509258\n",
      "Generating data for: 50094501\n",
      "Generating data for: 57984203\n",
      "Generating data for: 51245518\n",
      "Generating data for: 50441743\n",
      "Generating data for: 56413544\n",
      "Generating data for: 91691789\n",
      "Generating data for: 53969894\n",
      "Generating data for: 188829031\n",
      "Generating data for: 55685318\n"
     ]
    }
   ],
   "source": [
    "# for i in range(len(rta_players_kor)):\n",
    "#     generateData(rta_players_kor[i])"
   ]
  }
 ],
 "metadata": {
  "kernelspec": {
   "display_name": "Python 3 (ipykernel)",
   "language": "python",
   "name": "python3"
  },
  "language_info": {
   "codemirror_mode": {
    "name": "ipython",
    "version": 3
   },
   "file_extension": ".py",
   "mimetype": "text/x-python",
   "name": "python",
   "nbconvert_exporter": "python",
   "pygments_lexer": "ipython3",
   "version": "3.11.7"
  }
 },
 "nbformat": 4,
 "nbformat_minor": 5
}
